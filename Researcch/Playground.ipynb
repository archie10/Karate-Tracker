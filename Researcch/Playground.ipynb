{
 "cells": [
  {
   "metadata": {
    "ExecuteTime": {
     "end_time": "2024-12-09T15:38:58.896636Z",
     "start_time": "2024-12-09T15:38:28.497040Z"
    }
   },
   "cell_type": "code",
   "source": [
    "import os\n",
    "import urllib.request\n",
    "from urllib.error import HTTPError\n",
    "%pip install -q pytorch-lightning  # Install PyTorch Lightning\n",
    "%pip install -q torchvision  # Install PyTorch Vision\n",
    "%pip install seaborn  # Install Seaborn\n",
    "%pip install torchmetrics  # Install TorchMetrics\n",
    "%pip install -q tensorboard  # Install TensorBoard\n",
    "import matplotlib\n",
    "import matplotlib.pyplot as plt\n",
    "import matplotlib_inline.backend_inline\n",
    "import pytorch_lightning as pl\n",
    "import seaborn as sns\n",
    "import torch\n",
    "import torch.nn as nn\n",
    "import torch.nn.functional as F\n",
    "import torch.optim as optim\n",
    "import torch.utils.data as data\n",
    "import torchvision\n",
    "from pytorch_lightning.callbacks import LearningRateMonitor, ModelCheckpoint\n",
    "from torchvision import transforms\n",
    "from torchvision.datasets import CIFAR10\n",
    "\n",
    "plt.set_cmap(\"cividis\")\n",
    "%matplotlib inline\n",
    "matplotlib_inline.backend_inline.set_matplotlib_formats(\"svg\", \"pdf\")  # For export\n",
    "matplotlib.rcParams[\"lines.linewidth\"] = 2.0\n",
    "sns.reset_orig()\n",
    "\n",
    "%load_ext tensorboard\n",
    "\n",
    "# Path to the folder where the datasets are/should be downloaded (e.g. CIFAR10)\n",
    "DATASET_PATH = os.environ.get(\"PATH_DATASETS\", \"data/\")\n",
    "# Path to the folder where the pretrained models are saved\n",
    "CHECKPOINT_PATH = os.environ.get(\"PATH_CHECKPOINT\", \"saved_models/VisionTransformers/\")\n",
    "\n",
    "# Setting the seed\n",
    "pl.seed_everything(42)\n",
    "\n",
    "# Ensure that all operations are deterministic on GPU (if used) for reproducibility\n",
    "torch.backends.cudnn.deterministic = True\n",
    "torch.backends.cudnn.benchmark = False\n",
    "\n",
    "device = torch.device(\"cuda:0\") if torch.cuda.is_available() else torch.device(\"cpu\")\n",
    "print(\"Device:\", device)"
   ],
   "id": "2f8799ad648c89f",
   "outputs": [
    {
     "name": "stderr",
     "output_type": "stream",
     "text": [
      "2876.70s - pydevd: Sending message related to process being replaced timed-out after 5 seconds\n"
     ]
    },
    {
     "name": "stdout",
     "output_type": "stream",
     "text": [
      "Note: you may need to restart the kernel to use updated packages.\n"
     ]
    },
    {
     "name": "stderr",
     "output_type": "stream",
     "text": [
      "2882.78s - pydevd: Sending message related to process being replaced timed-out after 5 seconds\n"
     ]
    },
    {
     "name": "stdout",
     "output_type": "stream",
     "text": [
      "Note: you may need to restart the kernel to use updated packages.\n"
     ]
    },
    {
     "name": "stderr",
     "output_type": "stream",
     "text": [
      "2888.85s - pydevd: Sending message related to process being replaced timed-out after 5 seconds\n"
     ]
    },
    {
     "name": "stdout",
     "output_type": "stream",
     "text": [
      "Requirement already satisfied: seaborn in /home/saklani/.conda/envs/dino-tracker/lib/python3.9/site-packages (0.13.2)\r\n",
      "Requirement already satisfied: numpy!=1.24.0,>=1.20 in /home/saklani/.conda/envs/dino-tracker/lib/python3.9/site-packages (from seaborn) (1.26.4)\r\n",
      "Requirement already satisfied: pandas>=1.2 in /home/saklani/.conda/envs/dino-tracker/lib/python3.9/site-packages (from seaborn) (2.2.3)\r\n",
      "Requirement already satisfied: matplotlib!=3.6.1,>=3.4 in /home/saklani/.conda/envs/dino-tracker/lib/python3.9/site-packages (from seaborn) (3.9.2)\r\n",
      "Requirement already satisfied: contourpy>=1.0.1 in /home/saklani/.conda/envs/dino-tracker/lib/python3.9/site-packages (from matplotlib!=3.6.1,>=3.4->seaborn) (1.3.0)\r\n",
      "Requirement already satisfied: cycler>=0.10 in /home/saklani/.conda/envs/dino-tracker/lib/python3.9/site-packages (from matplotlib!=3.6.1,>=3.4->seaborn) (0.12.1)\r\n",
      "Requirement already satisfied: fonttools>=4.22.0 in /home/saklani/.conda/envs/dino-tracker/lib/python3.9/site-packages (from matplotlib!=3.6.1,>=3.4->seaborn) (4.54.1)\r\n",
      "Requirement already satisfied: kiwisolver>=1.3.1 in /home/saklani/.conda/envs/dino-tracker/lib/python3.9/site-packages (from matplotlib!=3.6.1,>=3.4->seaborn) (1.4.7)\r\n",
      "Requirement already satisfied: packaging>=20.0 in /home/saklani/.conda/envs/dino-tracker/lib/python3.9/site-packages (from matplotlib!=3.6.1,>=3.4->seaborn) (24.1)\r\n",
      "Requirement already satisfied: pillow>=8 in /home/saklani/.conda/envs/dino-tracker/lib/python3.9/site-packages (from matplotlib!=3.6.1,>=3.4->seaborn) (10.4.0)\r\n",
      "Requirement already satisfied: pyparsing>=2.3.1 in /home/saklani/.conda/envs/dino-tracker/lib/python3.9/site-packages (from matplotlib!=3.6.1,>=3.4->seaborn) (3.1.4)\r\n",
      "Requirement already satisfied: python-dateutil>=2.7 in /home/saklani/.conda/envs/dino-tracker/lib/python3.9/site-packages (from matplotlib!=3.6.1,>=3.4->seaborn) (2.9.0.post0)\r\n",
      "Requirement already satisfied: importlib-resources>=3.2.0 in /home/saklani/.conda/envs/dino-tracker/lib/python3.9/site-packages (from matplotlib!=3.6.1,>=3.4->seaborn) (6.4.5)\r\n",
      "Requirement already satisfied: pytz>=2020.1 in /home/saklani/.conda/envs/dino-tracker/lib/python3.9/site-packages (from pandas>=1.2->seaborn) (2024.1)\r\n",
      "Requirement already satisfied: tzdata>=2022.7 in /home/saklani/.conda/envs/dino-tracker/lib/python3.9/site-packages (from pandas>=1.2->seaborn) (2024.2)\r\n",
      "Requirement already satisfied: zipp>=3.1.0 in /home/saklani/.conda/envs/dino-tracker/lib/python3.9/site-packages (from importlib-resources>=3.2.0->matplotlib!=3.6.1,>=3.4->seaborn) (3.20.2)\r\n",
      "Requirement already satisfied: six>=1.5 in /home/saklani/.conda/envs/dino-tracker/lib/python3.9/site-packages (from python-dateutil>=2.7->matplotlib!=3.6.1,>=3.4->seaborn) (1.16.0)\r\n",
      "Note: you may need to restart the kernel to use updated packages.\n"
     ]
    },
    {
     "name": "stderr",
     "output_type": "stream",
     "text": [
      "2894.90s - pydevd: Sending message related to process being replaced timed-out after 5 seconds\n"
     ]
    },
    {
     "name": "stdout",
     "output_type": "stream",
     "text": [
      "Requirement already satisfied: torchmetrics in /home/saklani/.conda/envs/dino-tracker/lib/python3.9/site-packages (1.6.0)\r\n",
      "Requirement already satisfied: numpy>1.20.0 in /home/saklani/.conda/envs/dino-tracker/lib/python3.9/site-packages (from torchmetrics) (1.26.4)\r\n",
      "Requirement already satisfied: packaging>17.1 in /home/saklani/.conda/envs/dino-tracker/lib/python3.9/site-packages (from torchmetrics) (24.1)\r\n",
      "Requirement already satisfied: torch>=2.0.0 in /home/saklani/.conda/envs/dino-tracker/lib/python3.9/site-packages (from torchmetrics) (2.1.0)\r\n",
      "Requirement already satisfied: lightning-utilities>=0.8.0 in /home/saklani/.conda/envs/dino-tracker/lib/python3.9/site-packages (from torchmetrics) (0.11.9)\r\n",
      "Requirement already satisfied: setuptools in /home/saklani/.conda/envs/dino-tracker/lib/python3.9/site-packages (from lightning-utilities>=0.8.0->torchmetrics) (75.1.0)\r\n",
      "Requirement already satisfied: typing-extensions in /home/saklani/.conda/envs/dino-tracker/lib/python3.9/site-packages (from lightning-utilities>=0.8.0->torchmetrics) (4.11.0)\r\n",
      "Requirement already satisfied: filelock in /home/saklani/.conda/envs/dino-tracker/lib/python3.9/site-packages (from torch>=2.0.0->torchmetrics) (3.16.1)\r\n",
      "Requirement already satisfied: sympy in /home/saklani/.conda/envs/dino-tracker/lib/python3.9/site-packages (from torch>=2.0.0->torchmetrics) (1.13.3)\r\n",
      "Requirement already satisfied: networkx in /home/saklani/.conda/envs/dino-tracker/lib/python3.9/site-packages (from torch>=2.0.0->torchmetrics) (3.2.1)\r\n",
      "Requirement already satisfied: jinja2 in /home/saklani/.conda/envs/dino-tracker/lib/python3.9/site-packages (from torch>=2.0.0->torchmetrics) (3.1.4)\r\n",
      "Requirement already satisfied: fsspec in /home/saklani/.conda/envs/dino-tracker/lib/python3.9/site-packages (from torch>=2.0.0->torchmetrics) (2024.9.0)\r\n",
      "Requirement already satisfied: nvidia-cuda-nvrtc-cu12==12.1.105 in /home/saklani/.conda/envs/dino-tracker/lib/python3.9/site-packages (from torch>=2.0.0->torchmetrics) (12.1.105)\r\n",
      "Requirement already satisfied: nvidia-cuda-runtime-cu12==12.1.105 in /home/saklani/.conda/envs/dino-tracker/lib/python3.9/site-packages (from torch>=2.0.0->torchmetrics) (12.1.105)\r\n",
      "Requirement already satisfied: nvidia-cuda-cupti-cu12==12.1.105 in /home/saklani/.conda/envs/dino-tracker/lib/python3.9/site-packages (from torch>=2.0.0->torchmetrics) (12.1.105)\r\n",
      "Requirement already satisfied: nvidia-cudnn-cu12==8.9.2.26 in /home/saklani/.conda/envs/dino-tracker/lib/python3.9/site-packages (from torch>=2.0.0->torchmetrics) (8.9.2.26)\r\n",
      "Requirement already satisfied: nvidia-cublas-cu12==12.1.3.1 in /home/saklani/.conda/envs/dino-tracker/lib/python3.9/site-packages (from torch>=2.0.0->torchmetrics) (12.1.3.1)\r\n",
      "Requirement already satisfied: nvidia-cufft-cu12==11.0.2.54 in /home/saklani/.conda/envs/dino-tracker/lib/python3.9/site-packages (from torch>=2.0.0->torchmetrics) (11.0.2.54)\r\n",
      "Requirement already satisfied: nvidia-curand-cu12==10.3.2.106 in /home/saklani/.conda/envs/dino-tracker/lib/python3.9/site-packages (from torch>=2.0.0->torchmetrics) (10.3.2.106)\r\n",
      "Requirement already satisfied: nvidia-cusolver-cu12==11.4.5.107 in /home/saklani/.conda/envs/dino-tracker/lib/python3.9/site-packages (from torch>=2.0.0->torchmetrics) (11.4.5.107)\r\n",
      "Requirement already satisfied: nvidia-cusparse-cu12==12.1.0.106 in /home/saklani/.conda/envs/dino-tracker/lib/python3.9/site-packages (from torch>=2.0.0->torchmetrics) (12.1.0.106)\r\n",
      "Requirement already satisfied: nvidia-nccl-cu12==2.18.1 in /home/saklani/.conda/envs/dino-tracker/lib/python3.9/site-packages (from torch>=2.0.0->torchmetrics) (2.18.1)\r\n",
      "Requirement already satisfied: nvidia-nvtx-cu12==12.1.105 in /home/saklani/.conda/envs/dino-tracker/lib/python3.9/site-packages (from torch>=2.0.0->torchmetrics) (12.1.105)\r\n",
      "Requirement already satisfied: triton==2.1.0 in /home/saklani/.conda/envs/dino-tracker/lib/python3.9/site-packages (from torch>=2.0.0->torchmetrics) (2.1.0)\r\n",
      "Requirement already satisfied: nvidia-nvjitlink-cu12 in /home/saklani/.conda/envs/dino-tracker/lib/python3.9/site-packages (from nvidia-cusolver-cu12==11.4.5.107->torch>=2.0.0->torchmetrics) (12.6.77)\r\n",
      "Requirement already satisfied: MarkupSafe>=2.0 in /home/saklani/.conda/envs/dino-tracker/lib/python3.9/site-packages (from jinja2->torch>=2.0.0->torchmetrics) (2.1.3)\r\n",
      "Requirement already satisfied: mpmath<1.4,>=1.1.0 in /home/saklani/.conda/envs/dino-tracker/lib/python3.9/site-packages (from sympy->torch>=2.0.0->torchmetrics) (1.3.0)\r\n",
      "Note: you may need to restart the kernel to use updated packages.\n"
     ]
    },
    {
     "name": "stderr",
     "output_type": "stream",
     "text": [
      "2900.98s - pydevd: Sending message related to process being replaced timed-out after 5 seconds\n"
     ]
    },
    {
     "name": "stdout",
     "output_type": "stream",
     "text": [
      "Note: you may need to restart the kernel to use updated packages.\n",
      "The tensorboard extension is already loaded. To reload it, use:\n",
      "  %reload_ext tensorboard\n"
     ]
    },
    {
     "name": "stderr",
     "output_type": "stream",
     "text": [
      "Seed set to 42\n"
     ]
    },
    {
     "name": "stdout",
     "output_type": "stream",
     "text": [
      "Device: cuda:0\n"
     ]
    }
   ],
   "execution_count": 16
  },
  {
   "metadata": {},
   "cell_type": "code",
   "outputs": [],
   "execution_count": null,
   "source": "",
   "id": "d756f15e83520da3"
  },
  {
   "metadata": {
    "ExecuteTime": {
     "end_time": "2024-12-09T15:52:21.369565Z",
     "start_time": "2024-12-09T15:52:21.360559Z"
    }
   },
   "cell_type": "code",
   "source": [
    "import os\n",
    "\n",
    "# Create directory \"saved_models\" if it does not exist\n",
    "os.makedirs(\"saved_models\", exist_ok=True)"
   ],
   "id": "97828425d0156cec",
   "outputs": [],
   "execution_count": 20
  },
  {
   "metadata": {
    "ExecuteTime": {
     "end_time": "2024-12-09T15:54:14.115936Z",
     "start_time": "2024-12-09T15:54:14.106863Z"
    }
   },
   "cell_type": "code",
   "source": [
    "import os\n",
    "\n",
    "# Create directory \"saved_models\" if it does not exist\n",
    "os.makedirs(\"saved_models\", exist_ok=True)\n",
    "\n",
    "# Get the absolute path of the \"saved_models\" directory\n",
    "absolute_path = os.path.abspath(\"saved_models\")\n",
    "print(absolute_path)"
   ],
   "id": "a256677db53e8f46",
   "outputs": [
    {
     "name": "stdout",
     "output_type": "stream",
     "text": [
      "/tmp/pycharm_project_149/Researcch/saved_models\n"
     ]
    }
   ],
   "execution_count": 21
  },
  {
   "metadata": {},
   "cell_type": "code",
   "outputs": [],
   "execution_count": null,
   "source": "",
   "id": "970770747b33a279"
  },
  {
   "metadata": {
    "ExecuteTime": {
     "end_time": "2024-12-09T15:49:14.319478Z",
     "start_time": "2024-12-09T15:49:14.309558Z"
    }
   },
   "cell_type": "code",
   "source": [
    "import sys\n",
    "\n",
    "# Get the list of directories that Python will search for modules.\n",
    "runtime_path = sys.path\n",
    "print(\"Runtime Path:\", runtime_path)"
   ],
   "id": "e2aa6289ffaf6a76",
   "outputs": [
    {
     "name": "stdout",
     "output_type": "stream",
     "text": [
      "Runtime Path: ['/snap/pycharm-professional/440/plugins/python/helpers-pro/jupyter_debug', '/snap/pycharm-professional/440/plugins/python-ce/helpers/pydev', '/tmp/pycharm_project_149', '/home/saklani/.conda/envs/dino-tracker/lib/python39.zip', '/home/saklani/.conda/envs/dino-tracker/lib/python3.9', '/home/saklani/.conda/envs/dino-tracker/lib/python3.9/lib-dynload', '', '/home/saklani/.conda/envs/dino-tracker/lib/python3.9/site-packages', '/home/saklani/.conda/envs/dino-tracker/lib/python3.9/site-packages/setuptools/_vendor']\n"
     ]
    }
   ],
   "execution_count": 19
  },
  {
   "metadata": {
    "ExecuteTime": {
     "end_time": "2024-12-09T15:47:59.350351Z",
     "start_time": "2024-12-09T15:47:59.341280Z"
    }
   },
   "cell_type": "code",
   "source": [
    "print(CHECKPOINT_PATH)\n",
    "print(DATASET_PATH)"
   ],
   "id": "8a62ca1d1b918756",
   "outputs": [
    {
     "name": "stdout",
     "output_type": "stream",
     "text": [
      "saved_models/VisionTransformers/\n",
      "data/\n"
     ]
    }
   ],
   "execution_count": 18
  },
  {
   "metadata": {
    "ExecuteTime": {
     "end_time": "2024-12-09T16:08:10.922131Z",
     "start_time": "2024-12-09T16:08:10.903881Z"
    }
   },
   "cell_type": "code",
   "source": [
    "# Github URL where saved models are stored for this tutorial\n",
    "base_url = \"https://raw.githubusercontent.com/phlippe/saved_models/main/\"\n",
    "# Files to download\n",
    "pretrained_files = [\n",
    "    \"tutorial15/ViT.ckpt\",\n",
    "    \"tutorial15/tensorboards/ViT/events.out.tfevents.ViT\",\n",
    "    \"tutorial5/tensorboards/ResNet/events.out.tfevents.resnet\",\n",
    "]\n",
    "# Create checkpoint path if it doesn't exist yet\n",
    "os.makedirs(CHECKPOINT_PATH, exist_ok=True)\n",
    "print(CHECKPOINT_PATH)\n",
    "# For each file, check whether it already exists. If not, try downloading it.\n",
    "for file_name in pretrained_files:\n",
    "    file_path = os.path.join(CHECKPOINT_PATH, file_name.split(\"/\", 1)[1])\n",
    "    print(file_path)\n",
    "    if \"/\" in file_name.split(\"/\", 1)[1]:\n",
    "        os.makedirs(file_path.rsplit(\"/\", 1)[0], exist_ok=True)\n",
    "    if not os.path.isfile(file_path):\n",
    "        file_url = base_url + file_name\n",
    "        \n",
    "        print(f\"Downloading {file_url}...\")\n",
    "        try:\n",
    "            print(file_url)\n",
    "            urllib.request.urlretrieve(file_url, file_path)\n",
    "        except HTTPError as e:\n",
    "            print(\n",
    "                \"Something went wrong. Please try to download the file from the GDrive folder, or contact the author with the full output including the following error:\\n\",\n",
    "                e,\n",
    "            )"
   ],
   "id": "422c8d721d4c49a6",
   "outputs": [
    {
     "name": "stdout",
     "output_type": "stream",
     "text": [
      "saved_models/VisionTransformers/\n",
      "saved_models/VisionTransformers/ViT.ckpt\n",
      "saved_models/VisionTransformers/tensorboards/ViT/events.out.tfevents.ViT\n",
      "saved_models/VisionTransformers/tensorboards/ResNet/events.out.tfevents.resnet\n"
     ]
    }
   ],
   "execution_count": 22
  },
  {
   "metadata": {
    "ExecuteTime": {
     "end_time": "2024-12-09T15:32:53.936207Z",
     "start_time": "2024-12-09T15:32:53.925272Z"
    }
   },
   "cell_type": "code",
   "source": "",
   "id": "a87f2deee10e6f8",
   "outputs": [
    {
     "name": "stdout",
     "output_type": "stream",
     "text": [
      "https://raw.githubusercontent.com/phlippe/saved_models/main/tutorial5/tensorboards/ResNet/events.out.tfevents.resnet\n"
     ]
    }
   ],
   "execution_count": 13
  }
 ],
 "metadata": {
  "kernelspec": {
   "display_name": "Python 3",
   "language": "python",
   "name": "python3"
  },
  "language_info": {
   "codemirror_mode": {
    "name": "ipython",
    "version": 2
   },
   "file_extension": ".py",
   "mimetype": "text/x-python",
   "name": "python",
   "nbconvert_exporter": "python",
   "pygments_lexer": "ipython2",
   "version": "2.7.6"
  }
 },
 "nbformat": 4,
 "nbformat_minor": 5
}
