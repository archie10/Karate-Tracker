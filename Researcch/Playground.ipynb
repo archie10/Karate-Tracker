{
 "cells": [
  {
   "metadata": {
    "jupyter": {
     "is_executing": true
    }
   },
   "cell_type": "code",
   "source": [
    "import os\n",
    "import urllib.request\n",
    "from urllib.error import HTTPError\n",
    "%pip install -q pytorch-lightning  # Install PyTorch Lightning\n",
    "%pip install -q torchvision  # Install PyTorch Vision\n",
    "%pip install seaborn  # Install Seaborn\n",
    "%pip install torchmetrics  # Install TorchMetrics\n",
    "%pip install -q tensorboard  # Install TensorBoard\n",
    "import matplotlib\n",
    "import matplotlib.pyplot as plt\n",
    "import matplotlib_inline.backend_inline\n",
    "import pytorch_lightning as pl\n",
    "import seaborn as sns\n",
    "import torch\n",
    "import torch.nn as nn\n",
    "import torch.nn.functional as F\n",
    "import torch.optim as optim\n",
    "import torch.utils.data as data\n",
    "import torchvision\n",
    "from pytorch_lightning.callbacks import LearningRateMonitor, ModelCheckpoint\n",
    "from torchvision import transforms\n",
    "from torchvision.datasets import CIFAR10\n",
    "\n",
    "plt.set_cmap(\"cividis\")\n",
    "%matplotlib inline\n",
    "matplotlib_inline.backend_inline.set_matplotlib_formats(\"svg\", \"pdf\")  # For export\n",
    "matplotlib.rcParams[\"lines.linewidth\"] = 2.0\n",
    "sns.reset_orig()\n",
    "\n",
    "%load_ext tensorboard\n",
    "\n",
    "# Path to the folder where the datasets are/should be downloaded (e.g. CIFAR10)\n",
    "DATASET_PATH = os.environ.get(\"PATH_DATASETS\", \"data/\")\n",
    "# Path to the folder where the pretrained models are saved\n",
    "CHECKPOINT_PATH = os.environ.get(\"PATH_CHECKPOINT\", \"saved_models/VisionTransformers/\")\n",
    "\n",
    "# Setting the seed\n",
    "pl.seed_everything(42)\n",
    "\n",
    "# Ensure that all operations are deterministic on GPU (if used) for reproducibility\n",
    "torch.backends.cudnn.deterministic = True\n",
    "torch.backends.cudnn.benchmark = False\n",
    "\n",
    "device = torch.device(\"cuda:0\") if torch.cuda.is_available() else torch.device(\"cpu\")\n",
    "print(\"Device:\", device)"
   ],
   "id": "2f8799ad648c89f",
   "outputs": [],
   "execution_count": null
  },
  {
   "metadata": {},
   "cell_type": "code",
   "outputs": [],
   "execution_count": null,
   "source": "",
   "id": "d756f15e83520da3"
  },
  {
   "metadata": {
    "ExecuteTime": {
     "end_time": "2024-12-09T21:15:47.290559Z",
     "start_time": "2024-12-09T21:15:47.284837Z"
    }
   },
   "cell_type": "code",
   "source": [
    "import os\n",
    "\n",
    "# Create directory \"saved_models\" if it does not exist\n",
    "os.makedirs(\"saved_models\", exist_ok=True)"
   ],
   "id": "97828425d0156cec",
   "outputs": [],
   "execution_count": 10
  },
  {
   "metadata": {
    "ExecuteTime": {
     "end_time": "2024-12-09T21:15:50.525154Z",
     "start_time": "2024-12-09T21:15:50.518224Z"
    }
   },
   "cell_type": "code",
   "source": [
    "import os\n",
    "\n",
    "# Create directory \"saved_models\" if it does not exist\n",
    "os.makedirs(\"saved_models\", exist_ok=True)\n",
    "\n",
    "# Get the absolute path of the \"saved_models\" directory\n",
    "absolute_path = os.path.abspath(\"saved_models\")\n",
    "print(absolute_path)"
   ],
   "id": "a256677db53e8f46",
   "outputs": [
    {
     "name": "stdout",
     "output_type": "stream",
     "text": [
      "/tmp/pycharm_project_149/Researcch/saved_models\n"
     ]
    }
   ],
   "execution_count": 11
  },
  {
   "metadata": {},
   "cell_type": "code",
   "outputs": [],
   "execution_count": null,
   "source": "",
   "id": "970770747b33a279"
  },
  {
   "metadata": {
    "ExecuteTime": {
     "end_time": "2024-12-09T20:41:23.685068Z",
     "start_time": "2024-12-09T20:41:23.681920Z"
    }
   },
   "cell_type": "code",
   "source": [
    "import sys\n",
    "\n",
    "# Get the list of directories that Python will search for modules.\n",
    "runtime_path = sys.path\n",
    "print(\"Runtime Path:\", runtime_path)"
   ],
   "id": "e2aa6289ffaf6a76",
   "outputs": [
    {
     "name": "stdout",
     "output_type": "stream",
     "text": [
      "Runtime Path: ['/snap/pycharm-professional/440/plugins/python/helpers-pro/jupyter_debug', '/snap/pycharm-professional/440/plugins/python-ce/helpers/pydev', '/tmp/pycharm_project_149', '/home/saklani/.conda/envs/dino-tracker/lib/python39.zip', '/home/saklani/.conda/envs/dino-tracker/lib/python3.9', '/home/saklani/.conda/envs/dino-tracker/lib/python3.9/lib-dynload', '', '/home/saklani/.conda/envs/dino-tracker/lib/python3.9/site-packages', '/home/saklani/.conda/envs/dino-tracker/lib/python3.9/site-packages/setuptools/_vendor']\n"
     ]
    }
   ],
   "execution_count": 4
  },
  {
   "metadata": {
    "ExecuteTime": {
     "end_time": "2024-12-09T20:43:15.217454Z",
     "start_time": "2024-12-09T20:43:15.211304Z"
    }
   },
   "cell_type": "code",
   "source": [
    "import sys\n",
    "\n",
    "# Add a new path to the runtime path\n",
    "sys.path.append('/new/path/to/add')\n",
    "\n",
    "# Optionally, remove an existing path\n",
    "# sys.path.remove('/path/to/remove')"
   ],
   "id": "b5c911ee9f847ef2",
   "outputs": [],
   "execution_count": 5
  },
  {
   "metadata": {
    "ExecuteTime": {
     "end_time": "2024-12-09T20:43:17.822439Z",
     "start_time": "2024-12-09T20:43:17.819953Z"
    }
   },
   "cell_type": "code",
   "source": [
    "import sys\n",
    "print(\"Updated Runtime Path:\", sys.path)"
   ],
   "id": "c09edd0cb62078ef",
   "outputs": [
    {
     "name": "stdout",
     "output_type": "stream",
     "text": [
      "Updated Runtime Path: ['/snap/pycharm-professional/440/plugins/python/helpers-pro/jupyter_debug', '/snap/pycharm-professional/440/plugins/python-ce/helpers/pydev', '/tmp/pycharm_project_149', '/home/saklani/.conda/envs/dino-tracker/lib/python39.zip', '/home/saklani/.conda/envs/dino-tracker/lib/python3.9', '/home/saklani/.conda/envs/dino-tracker/lib/python3.9/lib-dynload', '', '/home/saklani/.conda/envs/dino-tracker/lib/python3.9/site-packages', '/home/saklani/.conda/envs/dino-tracker/lib/python3.9/site-packages/setuptools/_vendor', '/new/path/to/add']\n"
     ]
    }
   ],
   "execution_count": 6
  },
  {
   "metadata": {
    "ExecuteTime": {
     "end_time": "2024-12-09T17:53:49.977718Z",
     "start_time": "2024-12-09T17:53:49.971085Z"
    }
   },
   "cell_type": "code",
   "source": [
    "print(CHECKPOINT_PATH)\n",
    "print(DATASET_PATH)"
   ],
   "id": "8a62ca1d1b918756",
   "outputs": [
    {
     "name": "stdout",
     "output_type": "stream",
     "text": [
      "saved_models/VisionTransformers/\n",
      "data/\n"
     ]
    }
   ],
   "execution_count": 5
  },
  {
   "metadata": {
    "ExecuteTime": {
     "end_time": "2024-12-09T20:43:50.653283Z",
     "start_time": "2024-12-09T20:43:50.641017Z"
    }
   },
   "cell_type": "code",
   "source": [
    "# Github URL where saved models are stored for this tutorial\n",
    "base_url = \"https://raw.githubusercontent.com/phlippe/saved_models/main/\"\n",
    "# Files to download\n",
    "pretrained_files = [\n",
    "    \"tutorial15/ViT.ckpt\",\n",
    "    \"tutorial15/tensorboards/ViT/events.out.tfevents.ViT\",\n",
    "    \"tutorial5/tensorboards/ResNet/events.out.tfevents.resnet\",\n",
    "]\n",
    "# Create checkpoint path if it doesn't exist yet\n",
    "os.makedirs(CHECKPOINT_PATH, exist_ok=True)\n",
    "print(CHECKPOINT_PATH)\n",
    "# For each file, check whether it already exists. If not, try downloading it.\n",
    "for file_name in pretrained_files:\n",
    "    file_path = os.path.join(CHECKPOINT_PATH, file_name.split(\"/\", 1)[1])\n",
    "    print(file_path)\n",
    "    if \"/\" in file_name.split(\"/\", 1)[1]:\n",
    "        os.makedirs(file_path.rsplit(\"/\", 1)[0], exist_ok=True)\n",
    "    if not os.path.isfile(file_path):\n",
    "        file_url = base_url + file_name\n",
    "        \n",
    "        print(f\"Downloading {file_url}...\")\n",
    "        try:\n",
    "            print(file_url)\n",
    "            urllib.request.urlretrieve(file_url, file_path)\n",
    "        except HTTPError as e:\n",
    "            print(\n",
    "                \"Something went wrong. Please try to download the file from the GDrive folder, or contact the author with the full output including the following error:\\n\",\n",
    "                e,\n",
    "            )"
   ],
   "id": "422c8d721d4c49a6",
   "outputs": [
    {
     "name": "stdout",
     "output_type": "stream",
     "text": [
      "saved_models/VisionTransformers/\n",
      "saved_models/VisionTransformers/ViT.ckpt\n",
      "saved_models/VisionTransformers/tensorboards/ViT/events.out.tfevents.ViT\n",
      "saved_models/VisionTransformers/tensorboards/ResNet/events.out.tfevents.resnet\n"
     ]
    }
   ],
   "execution_count": 7
  },
  {
   "metadata": {
    "ExecuteTime": {
     "end_time": "2024-12-09T20:43:57.863009Z",
     "start_time": "2024-12-09T20:43:57.856812Z"
    }
   },
   "cell_type": "code",
   "source": [
    "import os\n",
    "\n",
    "# Get the current working directory\n",
    "current_working_directory = os.getcwd()\n",
    "\n",
    "print(f\"The current working directory is: {current_working_directory}\")\n"
   ],
   "id": "a87f2deee10e6f8",
   "outputs": [
    {
     "name": "stdout",
     "output_type": "stream",
     "text": [
      "The current working directory is: /tmp/pycharm_project_149/Researcch\n"
     ]
    }
   ],
   "execution_count": 8
  },
  {
   "metadata": {
    "ExecuteTime": {
     "end_time": "2024-12-09T20:02:21.557692Z",
     "start_time": "2024-12-09T20:02:21.553227Z"
    }
   },
   "cell_type": "code",
   "source": "2+2+2\n",
   "id": "41981bc0222834d6",
   "outputs": [
    {
     "data": {
      "text/plain": [
       "6"
      ]
     },
     "execution_count": 1,
     "metadata": {},
     "output_type": "execute_result"
    }
   ],
   "execution_count": 1
  }
 ],
 "metadata": {
  "kernelspec": {
   "display_name": "Python 3",
   "language": "python",
   "name": "python3"
  },
  "language_info": {
   "codemirror_mode": {
    "name": "ipython",
    "version": 2
   },
   "file_extension": ".py",
   "mimetype": "text/x-python",
   "name": "python",
   "nbconvert_exporter": "python",
   "pygments_lexer": "ipython2",
   "version": "2.7.6"
  }
 },
 "nbformat": 4,
 "nbformat_minor": 5
}
